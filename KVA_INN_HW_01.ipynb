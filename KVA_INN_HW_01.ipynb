{
  "nbformat": 4,
  "nbformat_minor": 0,
  "metadata": {
    "colab": {
      "provenance": [],
      "toc_visible": true,
      "authorship_tag": "ABX9TyOSCKRF3YcDPoc/9TaePFgK",
      "include_colab_link": true
    },
    "kernelspec": {
      "name": "python3",
      "display_name": "Python 3"
    },
    "language_info": {
      "name": "python"
    }
  },
  "cells": [
    {
      "cell_type": "markdown",
      "metadata": {
        "id": "view-in-github",
        "colab_type": "text"
      },
      "source": [
        "<a href=\"https://colab.research.google.com/github/vit050587/neural_networks/blob/master/KVA_INN_HW_01.ipynb\" target=\"_parent\"><img src=\"https://colab.research.google.com/assets/colab-badge.svg\" alt=\"Open In Colab\"/></a>"
      ]
    },
    {
      "cell_type": "markdown",
      "source": [
        "# **Урок 1. Основы обучения нейронных сетей**"
      ],
      "metadata": {
        "id": "EJOnUKOFQ21P"
      }
    },
    {
      "cell_type": "markdown",
      "source": [
        "**Задание 1. Попробуйте видоизменить параметры двухслойной нейронной сети таким образом, чтобы улучшить ее точность (число нейронов, эпох, слоев).\n",
        "\n",
        "Задание 2. Проведите анализ - что приводит к ухудшению нейронной сети? Что приводит к увеличению ее точности? Текст, выделенный полужирным шрифтом**"
      ],
      "metadata": {
        "id": "3WPkB_sKQ8zh"
      }
    },
    {
      "cell_type": "code",
      "execution_count": 1,
      "metadata": {
        "id": "DvKGZc5FQrx5"
      },
      "outputs": [],
      "source": [
        "import numpy as np\n",
        "import pandas as pd\n",
        "import seaborn as sns\n",
        "import matplotlib.pyplot as plt\n",
        "\n",
        "import warnings\n",
        "warnings.filterwarnings('ignore')\n",
        "\n",
        "from sklearn.model_selection import train_test_split\n",
        "from sklearn.datasets import load_digits\n",
        "from sklearn.preprocessing import MinMaxScaler"
      ]
    },
    {
      "cell_type": "code",
      "source": [
        "# Подготовка тренировочных данных\n",
        "X, y = load_digits(return_X_y=True)\n",
        "print(X.shape) # расскоментируйте, чтобы посмотреть размер данных\n",
        "\n",
        "# репрезентация данных\n",
        "plt.figure(figsize=(16, 6))\n",
        "for i in range(10):\n",
        "    plt.subplot(2, 5, i + 1)\n",
        "    plt.imshow(X[i,:].reshape([8, 8]))"
      ],
      "metadata": {
        "colab": {
          "base_uri": "https://localhost:8080/",
          "height": 539
        },
        "id": "mw1Vz3hSRVUI",
        "outputId": "ed42b975-62dd-4c06-a539-b8d072323dad"
      },
      "execution_count": 2,
      "outputs": [
        {
          "output_type": "stream",
          "name": "stdout",
          "text": [
            "(1797, 64)\n"
          ]
        },
        {
          "output_type": "display_data",
          "data": {
            "text/plain": [
              "<Figure size 1600x600 with 10 Axes>"
            ],
            "image/png": "[encoded data removed]"
          },
          "metadata": {}
        }
      ]
    },
    {
      "cell_type": "code",
      "source": [
        "y"
      ],
      "metadata": {
        "colab": {
          "base_uri": "https://localhost:8080/"
        },
        "id": "HqCzB--ARbBH",
        "outputId": "99d5cb61-0b2f-4053-f789-eb943eeeb8e1"
      },
      "execution_count": 3,
      "outputs": [
        {
          "output_type": "execute_result",
          "data": {
            "text/plain": [
              "array([0, 1, 2, ..., 8, 9, 8])"
            ]
          },
          "metadata": {},
          "execution_count": 3
        }
      ]
    },
    {
      "cell_type": "code",
      "source": [
        "def to_one_hot(Y):\n",
        "    n_col = np.max(Y) + 1\n",
        "    binarized = np.zeros((len(Y), n_col))\n",
        "    for i in range(len(Y)):\n",
        "        binarized[i, Y[i]] = 1\n",
        "    return binarized"
      ],
      "metadata": {
        "id": "9rdpfhGnReDA"
      },
      "execution_count": 4,
      "outputs": []
    },
    {
      "cell_type": "code",
      "source": [
        "# формирование входных данных\n",
        "scaler = MinMaxScaler()\n",
        "X = scaler.fit_transform(X)\n",
        "\n",
        "# формирование выходных данных(результатов)\n",
        "y = y.flatten()\n",
        "y = to_one_hot(y)\n",
        "display(y, y.shape)"
      ],
      "metadata": {
        "colab": {
          "base_uri": "https://localhost:8080/",
          "height": 156
        },
        "id": "I-1ZMH-kRgjg",
        "outputId": "8bc48cb7-18c1-41ef-c129-242e1b6b67b6"
      },
      "execution_count": 5,
      "outputs": [
        {
          "output_type": "display_data",
          "data": {
            "text/plain": [
              "array([[1., 0., 0., ..., 0., 0., 0.],\n",
              "       [0., 1., 0., ..., 0., 0., 0.],\n",
              "       [0., 0., 1., ..., 0., 0., 0.],\n",
              "       ...,\n",
              "       [0., 0., 0., ..., 0., 1., 0.],\n",
              "       [0., 0., 0., ..., 0., 0., 1.],\n",
              "       [0., 0., 0., ..., 0., 1., 0.]])"
            ]
          },
          "metadata": {}
        },
        {
          "output_type": "display_data",
          "data": {
            "text/plain": [
              "(1797, 10)"
            ]
          },
          "metadata": {}
        }
      ]
    },
    {
      "cell_type": "code",
      "source": [
        "# Разделение данных на тренировочные и тестовые\n",
        "X_train, X_test, y_train, y_test = train_test_split(X, y, test_size=0.33, random_state=1)"
      ],
      "metadata": {
        "id": "A33TEbUwRjGg"
      },
      "execution_count": 6,
      "outputs": []
    },
    {
      "cell_type": "code",
      "source": [
        "# вычисление сигмоид функции\n",
        "def sigmoid(x):\n",
        "    return 1 / (1 + np.exp(-x))\n",
        "\n",
        "# вычисление производной от сигмоид функции\n",
        "def sigmoid_deriv(x):\n",
        "    return sigmoid(x) * (1 - sigmoid(x))"
      ],
      "metadata": {
        "id": "5GesX0MPRmpA"
      },
      "execution_count": 7,
      "outputs": []
    },
    {
      "cell_type": "code",
      "source": [
        "# Обучение нейронной сети\n",
        "\n",
        "# определим число нейронов скрытого слоя\n",
        "neuron_numb = 5\n",
        "\n",
        "# присваивание случайных весов\n",
        "np.random.seed(1)\n",
        "w0 = np.random.random((64, neuron_numb))  # для входного слоя    - 64 входа, neuron_numb выходов\n",
        "w1 = np.random.random((neuron_numb, 10))  # для внутреннего слоя - neuron_numb входов, 10 выходов\n",
        "\n",
        "# скорость обучения (learning rate)\n",
        "learning_rate = 0.1\n",
        "\n",
        "# количество итераций\n",
        "num_epochs = 100\n",
        "\n",
        "# массив для ошибок, чтобы потом построить график\n",
        "errors = []\n",
        "metrics = []\n",
        "\n",
        "# процесс обучения\n",
        "for i in range(num_epochs):\n",
        "\n",
        "    # прямое распространение(feed forward)\n",
        "    layer0 = X_train\n",
        "    layer1 = sigmoid(np.dot(layer0, w0))\n",
        "    layer2 = sigmoid(np.dot(layer1, w1))\n",
        "\n",
        "    # обратное распространение (back propagation)\n",
        "    #  с использованием градиентного спуска\n",
        "    layer2_error = layer2 - y_train  # производная функции потерь\n",
        "    layer2_grad = layer2_error * sigmoid_deriv(layer2)\n",
        "    \n",
        "    layer1_error = layer2_grad.dot(w1.T)\n",
        "    layer1_grad = layer1_error * sigmoid_deriv(layer1)\n",
        "    \n",
        "    w1 -= layer1.T.dot(layer2_grad) * learning_rate\n",
        "    w0 -= layer0.T.dot(layer1_grad) * learning_rate\n",
        "    \n",
        "    # ошибка модели\n",
        "    error = np.mean(np.abs(layer2_error))\n",
        "    errors.append(error)\n",
        "    \n",
        "    # метрики качества\n",
        "    preds = np.argmax(layer2, axis=1)\n",
        "    labels = np.argmax(y_train, axis=1)\n",
        "    accuracy = (preds == labels).sum() * 100 / len(labels)\n",
        "    metrics.append(accuracy)"
      ],
      "metadata": {
        "id": "WjfR1EVERp1I"
      },
      "execution_count": 8,
      "outputs": []
    },
    {
      "cell_type": "code",
      "source": [
        "y_train[:10]"
      ],
      "metadata": {
        "colab": {
          "base_uri": "https://localhost:8080/"
        },
        "id": "CsUJjIstRsyg",
        "outputId": "59e2d9b3-95f8-4840-d68b-ef37154599d6"
      },
      "execution_count": 9,
      "outputs": [
        {
          "output_type": "execute_result",
          "data": {
            "text/plain": [
              "array([[0., 1., 0., 0., 0., 0., 0., 0., 0., 0.],\n",
              "       [0., 0., 0., 0., 0., 0., 0., 0., 0., 1.],\n",
              "       [1., 0., 0., 0., 0., 0., 0., 0., 0., 0.],\n",
              "       [0., 0., 0., 0., 0., 0., 0., 1., 0., 0.],\n",
              "       [0., 0., 0., 1., 0., 0., 0., 0., 0., 0.],\n",
              "       [0., 0., 0., 0., 1., 0., 0., 0., 0., 0.],\n",
              "       [0., 0., 0., 0., 0., 0., 0., 0., 0., 1.],\n",
              "       [0., 1., 0., 0., 0., 0., 0., 0., 0., 0.],\n",
              "       [0., 0., 0., 0., 0., 1., 0., 0., 0., 0.],\n",
              "       [0., 0., 0., 0., 1., 0., 0., 0., 0., 0.]])"
            ]
          },
          "metadata": {},
          "execution_count": 9
        }
      ]
    },
    {
      "cell_type": "markdown",
      "source": [
        "## **Поменяем количество нейронов внутреннего слоя**"
      ],
      "metadata": {
        "id": "lrXcc8vGRwhJ"
      }
    },
    {
      "cell_type": "code",
      "source": [
        "# Обучение нейронной сети\n",
        "\n",
        "# определим число нейронов скрытого слоя\n",
        "#neuron_numb = 5\n",
        "df = pd.DataFrame(columns=['parametr name', 'value', 'train', 'test'])\n",
        "p = 0\n",
        "\n",
        "for neuron_numb in range(2, 101):\n",
        "    \n",
        "\n",
        "    # присваивание случайных весов\n",
        "    np.random.seed(1)\n",
        "    w0 = np.random.random((64, neuron_numb))  # для входного слоя    - 64 входа, neuron_numb выходов\n",
        "    w1 = np.random.random((neuron_numb, 10))  # для внутреннего слоя - neuron_numb входов, 10 выходов\n",
        "\n",
        "    # скорость обучения (learning rate)\n",
        "    learning_rate = 0.1\n",
        "\n",
        "    # количество итераций\n",
        "    num_epochs = 100\n",
        "\n",
        "    # массив для ошибок, чтобы потом построить график\n",
        "    errors = []\n",
        "    metrics = []\n",
        "\n",
        "\n",
        "    # процесс обучения\n",
        "    for i in range(num_epochs):\n",
        "\n",
        "        # прямое распространение(feed forward)\n",
        "        layer0 = X_train\n",
        "        layer1 = sigmoid(np.dot(layer0, w0))\n",
        "        layer2 = sigmoid(np.dot(layer1, w1))\n",
        "\n",
        "        # обратное распространение (back propagation)\n",
        "        #  с использованием градиентного спуска\n",
        "        layer2_error = layer2 - y_train  # производная функции потерь\n",
        "        layer2_grad = layer2_error * sigmoid_deriv(layer2)\n",
        "\n",
        "        layer1_error = layer2_grad.dot(w1.T)\n",
        "        layer1_grad = layer1_error * sigmoid_deriv(layer1)\n",
        "\n",
        "        w1 -= layer1.T.dot(layer2_grad) * learning_rate\n",
        "        w0 -= layer0.T.dot(layer1_grad) * learning_rate\n",
        "\n",
        "        # метрики качества\n",
        "        preds = np.argmax(layer2, axis=1)\n",
        "        labels = np.argmax(y_train, axis=1)\n",
        "        accuracy = (preds == labels).sum() * 100 / len(labels)\n",
        "    \n",
        "    # прямое распространение(feed forward)\n",
        "    layer0_test = X_test\n",
        "    layer1_test = sigmoid(np.dot(layer0_test, w0))\n",
        "    layer2_test = sigmoid(np.dot(layer1_test, w1))\n",
        "\n",
        "    # метрика модели\n",
        "    preds_test = np.argmax(layer2_test, axis=1)\n",
        "    labels_test = np.argmax(y_test, axis=1)\n",
        "    accuracy_test = (preds_test == labels_test).sum() * 100 / len(labels_test)\n",
        "    \n",
        "    df.loc[p] = ['neuron_numb', neuron_numb, accuracy, accuracy_test]\n",
        "    p += 1"
      ],
      "metadata": {
        "id": "NC01NTPoR5XI"
      },
      "execution_count": 10,
      "outputs": []
    },
    {
      "cell_type": "code",
      "source": [
        "df.loc[(df['train'] > 85) & (df['test'] > 85)]"
      ],
      "metadata": {
        "colab": {
          "base_uri": "https://localhost:8080/",
          "height": 206
        },
        "id": "OBqXQ_-PR8Fh",
        "outputId": "193c5f33-899e-42ad-b23a-a42628de91a9"
      },
      "execution_count": 11,
      "outputs": [
        {
          "output_type": "execute_result",
          "data": {
            "text/plain": [
              "   parametr name  value      train       test\n",
              "75   neuron_numb     77  85.203658  86.700337\n",
              "76   neuron_numb     78  88.611804  86.531987\n",
              "86   neuron_numb     88  88.362427  88.383838\n",
              "87   neuron_numb     89  86.034913  86.026936\n",
              "97   neuron_numb     99  91.853699  88.888889"
            ],
            "text/html": [
              "\n",
              "  <div id=\"df-a6c859b2-3e2f-463b-9ef2-f16a8c6a81d9\">\n",
              "    <div class=\"colab-df-container\">\n",
              "      <div>\n",
              "<style scoped>\n",
              "    .dataframe tbody tr th:only-of-type {\n",
              "        vertical-align: middle;\n",
              "    }\n",
              "\n",
              "    .dataframe tbody tr th {\n",
              "        vertical-align: top;\n",
              "    }\n",
              "\n",
              "    .dataframe thead th {\n",
              "        text-align: right;\n",
              "    }\n",
              "</style>\n",
              "<table border=\"1\" class=\"dataframe\">\n",
              "  <thead>\n",
              "    <tr style=\"text-align: right;\">\n",
              "      <th></th>\n",
              "      <th>parametr name</th>\n",
              "      <th>value</th>\n",
              "      <th>train</th>\n",
              "      <th>test</th>\n",
              "    </tr>\n",
              "  </thead>\n",
              "  <tbody>\n",
              "    <tr>\n",
              "      <th>75</th>\n",
              "      <td>neuron_numb</td>\n",
              "      <td>77</td>\n",
              "      <td>85.203658</td>\n",
              "      <td>86.700337</td>\n",
              "    </tr>\n",
              "    <tr>\n",
              "      <th>76</th>\n",
              "      <td>neuron_numb</td>\n",
              "      <td>78</td>\n",
              "      <td>88.611804</td>\n",
              "      <td>86.531987</td>\n",
              "    </tr>\n",
              "    <tr>\n",
              "      <th>86</th>\n",
              "      <td>neuron_numb</td>\n",
              "      <td>88</td>\n",
              "      <td>88.362427</td>\n",
              "      <td>88.383838</td>\n",
              "    </tr>\n",
              "    <tr>\n",
              "      <th>87</th>\n",
              "      <td>neuron_numb</td>\n",
              "      <td>89</td>\n",
              "      <td>86.034913</td>\n",
              "      <td>86.026936</td>\n",
              "    </tr>\n",
              "    <tr>\n",
              "      <th>97</th>\n",
              "      <td>neuron_numb</td>\n",
              "      <td>99</td>\n",
              "      <td>91.853699</td>\n",
              "      <td>88.888889</td>\n",
              "    </tr>\n",
              "  </tbody>\n",
              "</table>\n",
              "</div>\n",
              "      <button class=\"colab-df-convert\" onclick=\"convertToInteractive('df-a6c859b2-3e2f-463b-9ef2-f16a8c6a81d9')\"\n",
              "              title=\"Convert this dataframe to an interactive table.\"\n",
              "              style=\"display:none;\">\n",
              "        \n",
              "  <svg xmlns=\"http://www.w3.org/2000/svg\" height=\"24px\"viewBox=\"0 0 24 24\"\n",
              "       width=\"24px\">\n",
              "    <path d=\"M0 0h24v24H0V0z\" fill=\"none\"/>\n",
              "    <path d=\"M18.56 5.44l.94 2.06.94-2.06 2.06-.94-2.06-.94-.94-2.06-.94 2.06-2.06.94zm-11 1L8.5 8.5l.94-2.06 2.06-.94-2.06-.94L8.5 2.5l-.94 2.06-2.06.94zm10 10l.94 2.06.94-2.06 2.06-.94-2.06-.94-.94-2.06-.94 2.06-2.06.94z\"/><path d=\"M17.41 7.96l-1.37-1.37c-.4-.4-.92-.59-1.43-.59-.52 0-1.04.2-1.43.59L10.3 9.45l-7.72 7.72c-.78.78-.78 2.05 0 2.83L4 21.41c.39.39.9.59 1.41.59.51 0 1.02-.2 1.41-.59l7.78-7.78 2.81-2.81c.8-.78.8-2.07 0-2.86zM5.41 20L4 18.59l7.72-7.72 1.47 1.35L5.41 20z\"/>\n",
              "  </svg>\n",
              "      </button>\n",
              "      \n",
              "  <style>\n",
              "    .colab-df-container {\n",
              "      display:flex;\n",
              "      flex-wrap:wrap;\n",
              "      gap: 12px;\n",
              "    }\n",
              "\n",
              "    .colab-df-convert {\n",
              "      background-color: #E8F0FE;\n",
              "      border: none;\n",
              "      border-radius: 50%;\n",
              "      cursor: pointer;\n",
              "      display: none;\n",
              "      fill: #1967D2;\n",
              "      height: 32px;\n",
              "      padding: 0 0 0 0;\n",
              "      width: 32px;\n",
              "    }\n",
              "\n",
              "    .colab-df-convert:hover {\n",
              "      background-color: #E2EBFA;\n",
              "      box-shadow: 0px 1px 2px rgba(60, 64, 67, 0.3), 0px 1px 3px 1px rgba(60, 64, 67, 0.15);\n",
              "      fill: #174EA6;\n",
              "    }\n",
              "\n",
              "    [theme=dark] .colab-df-convert {\n",
              "      background-color: #3B4455;\n",
              "      fill: #D2E3FC;\n",
              "    }\n",
              "\n",
              "    [theme=dark] .colab-df-convert:hover {\n",
              "      background-color: #434B5C;\n",
              "      box-shadow: 0px 1px 3px 1px rgba(0, 0, 0, 0.15);\n",
              "      filter: drop-shadow(0px 1px 2px rgba(0, 0, 0, 0.3));\n",
              "      fill: #FFFFFF;\n",
              "    }\n",
              "  </style>\n",
              "\n",
              "      <script>\n",
              "        const buttonEl =\n",
              "          document.querySelector('#df-a6c859b2-3e2f-463b-9ef2-f16a8c6a81d9 button.colab-df-convert');\n",
              "        buttonEl.style.display =\n",
              "          google.colab.kernel.accessAllowed ? 'block' : 'none';\n",
              "\n",
              "        async function convertToInteractive(key) {\n",
              "          const element = document.querySelector('#df-a6c859b2-3e2f-463b-9ef2-f16a8c6a81d9');\n",
              "          const dataTable =\n",
              "            await google.colab.kernel.invokeFunction('convertToInteractive',\n",
              "                                                     [key], {});\n",
              "          if (!dataTable) return;\n",
              "\n",
              "          const docLinkHtml = 'Like what you see? Visit the ' +\n",
              "            '<a target=\"_blank\" href=https://colab.research.google.com/notebooks/data_table.ipynb>data table notebook</a>'\n",
              "            + ' to learn more about interactive tables.';\n",
              "          element.innerHTML = '';\n",
              "          dataTable['output_type'] = 'display_data';\n",
              "          await google.colab.output.renderOutput(dataTable, element);\n",
              "          const docLink = document.createElement('div');\n",
              "          docLink.innerHTML = docLinkHtml;\n",
              "          element.appendChild(docLink);\n",
              "        }\n",
              "      </script>\n",
              "    </div>\n",
              "  </div>\n",
              "  "
            ]
          },
          "metadata": {},
          "execution_count": 11
        }
      ]
    },
    {
      "cell_type": "code",
      "source": [
        "plt.plot(df['value'], df['train'])\n",
        "plt.plot(df['value'], df['test']);"
      ],
      "metadata": {
        "colab": {
          "base_uri": "https://localhost:8080/",
          "height": 430
        },
        "id": "rz3dQpplR-qw",
        "outputId": "9b6a5d01-2892-4991-dc58-2710430d230b"
      },
      "execution_count": 12,
      "outputs": [
        {
          "output_type": "display_data",
          "data": {
            "text/plain": [
              "<Figure size 640x480 with 1 Axes>"
            ],
            "image/png": "[encoded data removed]"
          },
          "metadata": {}
        }
      ]
    },
    {
      "cell_type": "markdown",
      "source": [
        "**Увеличение числа нейронов скрытого слоя увеличивает точность, но в то же время наблюдаются провалы.**"
      ],
      "metadata": {
        "id": "oaTFyUSYSCyZ"
      }
    },
    {
      "cell_type": "markdown",
      "source": [
        "Оставим количество нейронов скрытого слоя равным 5 и проверим как влияет изменение количества эпох."
      ],
      "metadata": {
        "id": "0hMHi3OHSGlr"
      }
    },
    {
      "cell_type": "code",
      "source": [
        "# Обучение нейронной сети\n",
        "\n",
        "# определим число нейронов скрытого слоя\n",
        "neuron_numb = 5\n",
        "df = pd.DataFrame(columns=['parametr name', 'value', 'train', 'test'])\n",
        "p = 0\n",
        "\n",
        "for num_epochs in [100, 500, 1000, 2000, 5000, 10000]:\n",
        "    \n",
        "\n",
        "    # присваивание случайных весов\n",
        "    np.random.seed(1)\n",
        "    w0 = np.random.random((64, neuron_numb))  # для входного слоя    - 64 входа, neuron_numb выходов\n",
        "    w1 = np.random.random((neuron_numb, 10))  # для внутреннего слоя - neuron_numb входов, 10 выходов\n",
        "\n",
        "    # скорость обучения (learning rate)\n",
        "    learning_rate = 0.1\n",
        "\n",
        "    # количество итераций\n",
        "    #num_epochs = 1000\n",
        "\n",
        "    # массив для ошибок, чтобы потом построить график\n",
        "    errors = []\n",
        "    metrics = []\n",
        "\n",
        "\n",
        "    # процесс обучения\n",
        "    for i in range(num_epochs):\n",
        "\n",
        "        # прямое распространение(feed forward)\n",
        "        layer0 = X_train\n",
        "        layer1 = sigmoid(np.dot(layer0, w0))\n",
        "        layer2 = sigmoid(np.dot(layer1, w1))\n",
        "\n",
        "        # обратное распространение (back propagation)\n",
        "        #  с использованием градиентного спуска\n",
        "        layer2_error = layer2 - y_train  # производная функции потерь\n",
        "        layer2_grad = layer2_error * sigmoid_deriv(layer2)\n",
        "\n",
        "        layer1_error = layer2_grad.dot(w1.T)\n",
        "        layer1_grad = layer1_error * sigmoid_deriv(layer1)\n",
        "\n",
        "        w1 -= layer1.T.dot(layer2_grad) * learning_rate\n",
        "        w0 -= layer0.T.dot(layer1_grad) * learning_rate\n",
        "\n",
        "        # метрики качества\n",
        "        preds = np.argmax(layer2, axis=1)\n",
        "        labels = np.argmax(y_train, axis=1)\n",
        "        accuracy = (preds == labels).sum() * 100 / len(labels)\n",
        "    \n",
        "    # прямое распространение(feed forward)\n",
        "    layer0_test = X_test\n",
        "    layer1_test = sigmoid(np.dot(layer0_test, w0))\n",
        "    layer2_test = sigmoid(np.dot(layer1_test, w1))\n",
        "\n",
        "    # метрика модели\n",
        "    preds_test = np.argmax(layer2_test, axis=1)\n",
        "    labels_test = np.argmax(y_test, axis=1)\n",
        "    accuracy_test = (preds_test == labels_test).sum() * 100 / len(labels_test)\n",
        "    \n",
        "    df.loc[p] = ['num_epochs', num_epochs, accuracy, accuracy_test]\n",
        "    p += 1\n",
        "\n",
        "df"
      ],
      "metadata": {
        "colab": {
          "base_uri": "https://localhost:8080/",
          "height": 238
        },
        "id": "M8NCxcrZSJ-5",
        "outputId": "e3931b27-1dc1-4b9b-cce6-ccd401867edc"
      },
      "execution_count": 13,
      "outputs": [
        {
          "output_type": "execute_result",
          "data": {
            "text/plain": [
              "  parametr name  value      train       test\n",
              "0    num_epochs    100  53.699086  47.138047\n",
              "1    num_epochs    500  55.527847  61.111111\n",
              "2    num_epochs   1000  61.097257  65.488215\n",
              "3    num_epochs   2000  59.019119  55.218855\n",
              "4    num_epochs   5000  62.676642  65.151515\n",
              "5    num_epochs  10000  61.263508  64.983165"
            ],
            "text/html": [
              "\n",
              "  <div id=\"df-ebade797-3d97-46fd-b9a1-698e25dd4bf6\">\n",
              "    <div class=\"colab-df-container\">\n",
              "      <div>\n",
              "<style scoped>\n",
              "    .dataframe tbody tr th:only-of-type {\n",
              "        vertical-align: middle;\n",
              "    }\n",
              "\n",
              "    .dataframe tbody tr th {\n",
              "        vertical-align: top;\n",
              "    }\n",
              "\n",
              "    .dataframe thead th {\n",
              "        text-align: right;\n",
              "    }\n",
              "</style>\n",
              "<table border=\"1\" class=\"dataframe\">\n",
              "  <thead>\n",
              "    <tr style=\"text-align: right;\">\n",
              "      <th></th>\n",
              "      <th>parametr name</th>\n",
              "      <th>value</th>\n",
              "      <th>train</th>\n",
              "      <th>test</th>\n",
              "    </tr>\n",
              "  </thead>\n",
              "  <tbody>\n",
              "    <tr>\n",
              "      <th>0</th>\n",
              "      <td>num_epochs</td>\n",
              "      <td>100</td>\n",
              "      <td>53.699086</td>\n",
              "      <td>47.138047</td>\n",
              "    </tr>\n",
              "    <tr>\n",
              "      <th>1</th>\n",
              "      <td>num_epochs</td>\n",
              "      <td>500</td>\n",
              "      <td>55.527847</td>\n",
              "      <td>61.111111</td>\n",
              "    </tr>\n",
              "    <tr>\n",
              "      <th>2</th>\n",
              "      <td>num_epochs</td>\n",
              "      <td>1000</td>\n",
              "      <td>61.097257</td>\n",
              "      <td>65.488215</td>\n",
              "    </tr>\n",
              "    <tr>\n",
              "      <th>3</th>\n",
              "      <td>num_epochs</td>\n",
              "      <td>2000</td>\n",
              "      <td>59.019119</td>\n",
              "      <td>55.218855</td>\n",
              "    </tr>\n",
              "    <tr>\n",
              "      <th>4</th>\n",
              "      <td>num_epochs</td>\n",
              "      <td>5000</td>\n",
              "      <td>62.676642</td>\n",
              "      <td>65.151515</td>\n",
              "    </tr>\n",
              "    <tr>\n",
              "      <th>5</th>\n",
              "      <td>num_epochs</td>\n",
              "      <td>10000</td>\n",
              "      <td>61.263508</td>\n",
              "      <td>64.983165</td>\n",
              "    </tr>\n",
              "  </tbody>\n",
              "</table>\n",
              "</div>\n",
              "      <button class=\"colab-df-convert\" onclick=\"convertToInteractive('df-ebade797-3d97-46fd-b9a1-698e25dd4bf6')\"\n",
              "              title=\"Convert this dataframe to an interactive table.\"\n",
              "              style=\"display:none;\">\n",
              "        \n",
              "  <svg xmlns=\"http://www.w3.org/2000/svg\" height=\"24px\"viewBox=\"0 0 24 24\"\n",
              "       width=\"24px\">\n",
              "    <path d=\"M0 0h24v24H0V0z\" fill=\"none\"/>\n",
              "    <path d=\"M18.56 5.44l.94 2.06.94-2.06 2.06-.94-2.06-.94-.94-2.06-.94 2.06-2.06.94zm-11 1L8.5 8.5l.94-2.06 2.06-.94-2.06-.94L8.5 2.5l-.94 2.06-2.06.94zm10 10l.94 2.06.94-2.06 2.06-.94-2.06-.94-.94-2.06-.94 2.06-2.06.94z\"/><path d=\"M17.41 7.96l-1.37-1.37c-.4-.4-.92-.59-1.43-.59-.52 0-1.04.2-1.43.59L10.3 9.45l-7.72 7.72c-.78.78-.78 2.05 0 2.83L4 21.41c.39.39.9.59 1.41.59.51 0 1.02-.2 1.41-.59l7.78-7.78 2.81-2.81c.8-.78.8-2.07 0-2.86zM5.41 20L4 18.59l7.72-7.72 1.47 1.35L5.41 20z\"/>\n",
              "  </svg>\n",
              "      </button>\n",
              "      \n",
              "  <style>\n",
              "    .colab-df-container {\n",
              "      display:flex;\n",
              "      flex-wrap:wrap;\n",
              "      gap: 12px;\n",
              "    }\n",
              "\n",
              "    .colab-df-convert {\n",
              "      background-color: #E8F0FE;\n",
              "      border: none;\n",
              "      border-radius: 50%;\n",
              "      cursor: pointer;\n",
              "      display: none;\n",
              "      fill: #1967D2;\n",
              "      height: 32px;\n",
              "      padding: 0 0 0 0;\n",
              "      width: 32px;\n",
              "    }\n",
              "\n",
              "    .colab-df-convert:hover {\n",
              "      background-color: #E2EBFA;\n",
              "      box-shadow: 0px 1px 2px rgba(60, 64, 67, 0.3), 0px 1px 3px 1px rgba(60, 64, 67, 0.15);\n",
              "      fill: #174EA6;\n",
              "    }\n",
              "\n",
              "    [theme=dark] .colab-df-convert {\n",
              "      background-color: #3B4455;\n",
              "      fill: #D2E3FC;\n",
              "    }\n",
              "\n",
              "    [theme=dark] .colab-df-convert:hover {\n",
              "      background-color: #434B5C;\n",
              "      box-shadow: 0px 1px 3px 1px rgba(0, 0, 0, 0.15);\n",
              "      filter: drop-shadow(0px 1px 2px rgba(0, 0, 0, 0.3));\n",
              "      fill: #FFFFFF;\n",
              "    }\n",
              "  </style>\n",
              "\n",
              "      <script>\n",
              "        const buttonEl =\n",
              "          document.querySelector('#df-ebade797-3d97-46fd-b9a1-698e25dd4bf6 button.colab-df-convert');\n",
              "        buttonEl.style.display =\n",
              "          google.colab.kernel.accessAllowed ? 'block' : 'none';\n",
              "\n",
              "        async function convertToInteractive(key) {\n",
              "          const element = document.querySelector('#df-ebade797-3d97-46fd-b9a1-698e25dd4bf6');\n",
              "          const dataTable =\n",
              "            await google.colab.kernel.invokeFunction('convertToInteractive',\n",
              "                                                     [key], {});\n",
              "          if (!dataTable) return;\n",
              "\n",
              "          const docLinkHtml = 'Like what you see? Visit the ' +\n",
              "            '<a target=\"_blank\" href=https://colab.research.google.com/notebooks/data_table.ipynb>data table notebook</a>'\n",
              "            + ' to learn more about interactive tables.';\n",
              "          element.innerHTML = '';\n",
              "          dataTable['output_type'] = 'display_data';\n",
              "          await google.colab.output.renderOutput(dataTable, element);\n",
              "          const docLink = document.createElement('div');\n",
              "          docLink.innerHTML = docLinkHtml;\n",
              "          element.appendChild(docLink);\n",
              "        }\n",
              "      </script>\n",
              "    </div>\n",
              "  </div>\n",
              "  "
            ]
          },
          "metadata": {},
          "execution_count": 13
        }
      ]
    },
    {
      "cell_type": "code",
      "source": [
        "plt.plot(df['value'], df['train'])\n",
        "plt.plot(df['value'], df['test']);"
      ],
      "metadata": {
        "colab": {
          "base_uri": "https://localhost:8080/",
          "height": 430
        },
        "id": "UJ-OVgo7SM6R",
        "outputId": "35aef6af-803f-4389-fda8-494249120cea"
      },
      "execution_count": 14,
      "outputs": [
        {
          "output_type": "display_data",
          "data": {
            "text/plain": [
              "<Figure size 640x480 with 1 Axes>"
            ],
            "image/png": "[encoded data removed]"
          },
          "metadata": {}
        }
      ]
    },
    {
      "cell_type": "markdown",
      "source": [
        "**Увеличение числа эпох повышает скор.**"
      ],
      "metadata": {
        "id": "CgetkBeaSPOi"
      }
    }
  ]
}