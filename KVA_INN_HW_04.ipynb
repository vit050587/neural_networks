{
  "cells": [
    {
      "cell_type": "markdown",
      "metadata": {
        "id": "view-in-github",
        "colab_type": "text"
      },
      "source": [
        "<a href=\"https://colab.research.google.com/github/vit050587/neural_networks/blob/master/KVA_INN_HW_04.ipynb\" target=\"_parent\"><img src=\"https://colab.research.google.com/assets/colab-badge.svg\" alt=\"Open In Colab\"/></a>"
      ]
    },
    {
      "cell_type": "markdown",
      "metadata": {
        "id": "uccHhbboz8Ur"
      },
      "source": [
        "# Домашнее задание:\n",
        "\n",
        "* обучить рукописную сверточную нейронную сеть (с падением размера ядра свертки и последовательностью блоков свертка-пулинг (conv-pool)-(conv-pool)-...) - (размерность снижается, а количество фильтров становится больше) на датасете cifar-10\n",
        "\n",
        "* оценить рост точности при увеличении ширины сети (больше фильтров т.е. количества каналов на свёртках)\n",
        "\n",
        "* оценить рост точности при увеличении глубины сети (больше слоев конволюций-пулингов)\n",
        "\n",
        "*сравнить с точностью полносвязной сети для этой выборки"
      ]
    },
    {
      "cell_type": "code",
      "execution_count": 1,
      "metadata": {
        "id": "aE8Z0V-OzzRc"
      },
      "outputs": [],
      "source": [
        "import numpy as np\n",
        "import pandas as pd\n",
        "from tqdm import tqdm\n",
        "import matplotlib.pyplot as plt\n",
        "import os\n",
        "\n",
        "import tensorflow as tf\n",
        "import tensorflow.keras as keras\n",
        "from tensorflow.keras import models, layers\n",
        "from tensorflow.keras.preprocessing.image import ImageDataGenerator\n",
        "from tensorflow.keras.utils import to_categorical, plot_model \n",
        "from tensorflow.keras.models import Sequential, Model\n",
        "from tensorflow.keras.layers import (Dense, Dropout, Activation, Flatten, Conv2D, MaxPooling2D, Input, Concatenate,\n",
        "                                     Average, Maximum, Add, Subtract, Multiply,\n",
        "                                    GlobalMaxPooling2D, AveragePooling2D, GlobalAveragePooling2D)\n",
        "from tensorflow.keras.datasets import cifar10"
      ]
    },
    {
      "cell_type": "markdown",
      "metadata": {
        "id": "wsikqG7g0O3d"
      },
      "source": [
        "# 1. Обучим рукописную сверточную нейронную сеть (с падением размера ядра свертки и последовательностью блоков свертка-пулинг (conv-pool)-(conv-pool)-...) - (размерность снижается, а количество фильтров становится больше) на датасете cifar-10"
      ]
    },
    {
      "cell_type": "code",
      "execution_count": 2,
      "metadata": {
        "id": "PTq-oN840Swb"
      },
      "outputs": [],
      "source": [
        "classes = ['самолет', 'автомобиль', 'птица', 'кот', 'олень', 'собака', 'лягушка', 'лошадь', 'корабль', 'грузовик']"
      ]
    },
    {
      "cell_type": "code",
      "execution_count": 3,
      "metadata": {
        "colab": {
          "base_uri": "https://localhost:8080/"
        },
        "id": "FUe_HLyl0VPR",
        "outputId": "b6c8df8a-7bd8-446b-fdb9-735e5888a940"
      },
      "outputs": [
        {
          "output_type": "stream",
          "name": "stdout",
          "text": [
            "Downloading data from https://www.cs.toronto.edu/~kriz/cifar-10-python.tar.gz\n",
            "170498071/170498071 [==============================] - 3s 0us/step\n",
            "X_train shape: (50000, 32, 32, 3)\n",
            "50000 тренировочные примеры\n",
            "10000 тестовые примеры\n"
          ]
        }
      ],
      "source": [
        "# загрузка тренировочных и тестовых данных\n",
        "(X_train, y_train), (X_test, y_test) = cifar10.load_data()\n",
        "print('X_train shape:', X_train.shape)\n",
        "print(X_train.shape[0], 'тренировочные примеры')\n",
        "print(X_test.shape[0], 'тестовые примеры')\n",
        "\n",
        "# нормализация данных [0, 1]\n",
        "X_train = X_train / 255.0\n",
        "X_test = X_test / 255.0\n",
        "\n",
        "# изменение размерности массива в 4D массив\n",
        "# X_train = X_train.reshape(X_train.shape[0], 28, 28, 1)\n",
        "# X_test = X_test.reshape(X_test.shape[0], 28, 28, 1)"
      ]
    },
    {
      "cell_type": "code",
      "execution_count": 4,
      "metadata": {
        "id": "gVA4kH5d0XtI"
      },
      "outputs": [],
      "source": [
        "# установка параметров нейросети\n",
        "batch_size = 512\n",
        "num_classes = 10\n",
        "epochs = 5\n",
        "data_augmentation = False\n",
        "num_predictions = 20\n",
        "save_dir = os.path.join(os.getcwd(), 'saved_models')\n",
        "model_name = 'keras_cifar10_trained_model.h5'\n",
        "\n",
        "# преобразование матрицы чисел 0-9 в бинарную матрицу чисел 0-1\n",
        "y_train = to_categorical(y_train, num_classes)\n",
        "y_test = to_categorical(y_test, num_classes)"
      ]
    },
    {
      "cell_type": "code",
      "execution_count": 5,
      "metadata": {
        "colab": {
          "base_uri": "https://localhost:8080/",
          "height": 452
        },
        "id": "7atUBgic0ZqU",
        "outputId": "2afed5ec-f13f-4064-a5f9-463b47240299"
      },
      "outputs": [
        {
          "output_type": "display_data",
          "data": {
            "text/plain": [
              "<Figure size 640x480 with 1 Axes>"
            ],
            "image/png": "[encoded data removed]"
          },
          "metadata": {}
        }
      ],
      "source": [
        "N = 10\n",
        "\n",
        "plt.imshow(X_test[N])\n",
        "plt.title(classes[np.argmax(y_test[N,:])])\n",
        "plt.show()"
      ]
    },
    {
      "cell_type": "code",
      "execution_count": 6,
      "metadata": {
        "colab": {
          "base_uri": "https://localhost:8080/"
        },
        "id": "Vcp_1VNd0c4a",
        "outputId": "984fbb93-697a-4f6e-ec5c-3ebef586ac8a"
      },
      "outputs": [
        {
          "output_type": "stream",
          "name": "stdout",
          "text": [
            "Model: \"sequential\"\n",
            "_________________________________________________________________\n",
            " Layer (type)                Output Shape              Param #   \n",
            "=================================================================\n",
            " conv2d (Conv2D)             (None, 32, 32, 32)        896       \n",
            "                                                                 \n",
            " activation (Activation)     (None, 32, 32, 32)        0         \n",
            "                                                                 \n",
            " conv2d_1 (Conv2D)           (None, 30, 30, 32)        9248      \n",
            "                                                                 \n",
            " activation_1 (Activation)   (None, 30, 30, 32)        0         \n",
            "                                                                 \n",
            " max_pooling2d (MaxPooling2D  (None, 15, 15, 32)       0         \n",
            " )                                                               \n",
            "                                                                 \n",
            " dropout (Dropout)           (None, 15, 15, 32)        0         \n",
            "                                                                 \n",
            " conv2d_2 (Conv2D)           (None, 15, 15, 64)        18496     \n",
            "                                                                 \n",
            " activation_2 (Activation)   (None, 15, 15, 64)        0         \n",
            "                                                                 \n",
            " conv2d_3 (Conv2D)           (None, 13, 13, 64)        36928     \n",
            "                                                                 \n",
            " activation_3 (Activation)   (None, 13, 13, 64)        0         \n",
            "                                                                 \n",
            " max_pooling2d_1 (MaxPooling  (None, 6, 6, 64)         0         \n",
            " 2D)                                                             \n",
            "                                                                 \n",
            " dropout_1 (Dropout)         (None, 6, 6, 64)          0         \n",
            "                                                                 \n",
            " flatten (Flatten)           (None, 2304)              0         \n",
            "                                                                 \n",
            " dense (Dense)               (None, 512)               1180160   \n",
            "                                                                 \n",
            " activation_4 (Activation)   (None, 512)               0         \n",
            "                                                                 \n",
            " dropout_2 (Dropout)         (None, 512)               0         \n",
            "                                                                 \n",
            " dense_1 (Dense)             (None, 10)                5130      \n",
            "                                                                 \n",
            " activation_5 (Activation)   (None, 10)                0         \n",
            "                                                                 \n",
            "=================================================================\n",
            "Total params: 1,250,858\n",
            "Trainable params: 1,250,858\n",
            "Non-trainable params: 0\n",
            "_________________________________________________________________\n"
          ]
        }
      ],
      "source": [
        "# конфигурирование слоев нейросети\n",
        "model = Sequential()\n",
        "\n",
        "# слои нейросети отвественные за свертку и max-pooling\n",
        "model.add(Conv2D(32, (3, 3), padding='same', input_shape=X_train.shape[1:]))\n",
        "model.add(Activation('relu')) # активацию можно прописывать как в самом слое, так и отдельно\n",
        "model.add(Conv2D(32, (3, 3)))\n",
        "model.add(Activation('relu'))\n",
        "model.add(MaxPooling2D(pool_size=(2, 2)))\n",
        "model.add(Dropout(0.25))\n",
        "\n",
        "model.add(Conv2D(64, (3, 3), padding='same'))\n",
        "model.add(Activation('relu'))\n",
        "model.add(Conv2D(64, (3, 3)))\n",
        "model.add(Activation('relu'))\n",
        "model.add(MaxPooling2D(pool_size=(2, 2)))\n",
        "model.add(Dropout(0.25))\n",
        "\n",
        "# полносвязные слои нейронной сети\n",
        "# сглаживание CNN выхода чтобы можно было его присоединить к полносвязногому слою\n",
        "model.add(Flatten()) \n",
        "# полносвязный слой\n",
        "model.add(Dense(512))\n",
        "model.add(Activation('relu'))\n",
        "model.add(Dropout(0.5))\n",
        "model.add(Dense(num_classes))\n",
        "# выходной слой с функцией активации softmax\n",
        "model.add(Activation('softmax'))\n",
        "\n",
        "model.summary()\n",
        "\n",
        "# компиляция модели\n",
        "model.compile(loss='categorical_crossentropy',\n",
        "              optimizer='SGD',\n",
        "              metrics=['accuracy'])"
      ]
    },
    {
      "cell_type": "code",
      "execution_count": 7,
      "metadata": {
        "colab": {
          "base_uri": "https://localhost:8080/"
        },
        "id": "S7Rz68Hi0f6Z",
        "outputId": "d6a73d3f-f800-4cea-aa21-c30752f75f5a"
      },
      "outputs": [
        {
          "output_type": "stream",
          "name": "stdout",
          "text": [
            "Epoch 1/20\n",
            "3125/3125 [==============================] - 311s 98ms/step - loss: 1.9823 - accuracy: 0.2688 - val_loss: 1.7004 - val_accuracy: 0.3842\n",
            "Epoch 2/20\n",
            "3125/3125 [==============================] - 318s 102ms/step - loss: 1.6456 - accuracy: 0.4006 - val_loss: 1.4260 - val_accuracy: 0.4861\n",
            "Epoch 3/20\n",
            "3125/3125 [==============================] - 308s 99ms/step - loss: 1.4413 - accuracy: 0.4777 - val_loss: 1.2779 - val_accuracy: 0.5418\n",
            "Epoch 4/20\n",
            "3125/3125 [==============================] - 314s 100ms/step - loss: 1.3062 - accuracy: 0.5318 - val_loss: 1.1901 - val_accuracy: 0.5810\n",
            "Epoch 5/20\n",
            "3125/3125 [==============================] - 315s 101ms/step - loss: 1.2106 - accuracy: 0.5689 - val_loss: 1.0954 - val_accuracy: 0.6140\n",
            "Epoch 6/20\n",
            "3125/3125 [==============================] - 315s 101ms/step - loss: 1.1285 - accuracy: 0.6017 - val_loss: 1.0280 - val_accuracy: 0.6367\n",
            "Epoch 7/20\n",
            "3125/3125 [==============================] - 308s 99ms/step - loss: 1.0585 - accuracy: 0.6279 - val_loss: 0.9417 - val_accuracy: 0.6645\n",
            "Epoch 8/20\n",
            "3125/3125 [==============================] - 311s 99ms/step - loss: 1.0005 - accuracy: 0.6450 - val_loss: 0.8931 - val_accuracy: 0.6881\n",
            "Epoch 9/20\n",
            "3125/3125 [==============================] - 310s 99ms/step - loss: 0.9489 - accuracy: 0.6662 - val_loss: 0.8716 - val_accuracy: 0.6967\n",
            "Epoch 10/20\n",
            "3125/3125 [==============================] - 312s 100ms/step - loss: 0.9004 - accuracy: 0.6809 - val_loss: 0.8368 - val_accuracy: 0.7090\n",
            "Epoch 11/20\n",
            "3125/3125 [==============================] - 319s 102ms/step - loss: 0.8636 - accuracy: 0.6954 - val_loss: 0.8059 - val_accuracy: 0.7160\n",
            "Epoch 12/20\n",
            "3125/3125 [==============================] - 311s 100ms/step - loss: 0.8288 - accuracy: 0.7099 - val_loss: 0.7675 - val_accuracy: 0.7348\n",
            "Epoch 13/20\n",
            "3125/3125 [==============================] - 309s 99ms/step - loss: 0.7951 - accuracy: 0.7212 - val_loss: 0.7560 - val_accuracy: 0.7390\n",
            "Epoch 14/20\n",
            "3125/3125 [==============================] - 310s 99ms/step - loss: 0.7641 - accuracy: 0.7327 - val_loss: 0.7255 - val_accuracy: 0.7432\n",
            "Epoch 15/20\n",
            "3125/3125 [==============================] - 317s 101ms/step - loss: 0.7418 - accuracy: 0.7404 - val_loss: 0.7871 - val_accuracy: 0.7325\n",
            "Epoch 16/20\n",
            "3125/3125 [==============================] - 322s 103ms/step - loss: 0.7119 - accuracy: 0.7502 - val_loss: 0.6898 - val_accuracy: 0.7605\n",
            "Epoch 17/20\n",
            "3125/3125 [==============================] - 319s 102ms/step - loss: 0.6869 - accuracy: 0.7577 - val_loss: 0.6754 - val_accuracy: 0.7659\n",
            "Epoch 18/20\n",
            "3125/3125 [==============================] - 321s 103ms/step - loss: 0.6673 - accuracy: 0.7644 - val_loss: 0.6823 - val_accuracy: 0.7623\n",
            "Epoch 19/20\n",
            "3125/3125 [==============================] - 318s 102ms/step - loss: 0.6446 - accuracy: 0.7729 - val_loss: 0.6590 - val_accuracy: 0.7705\n",
            "Epoch 20/20\n",
            "3125/3125 [==============================] - 312s 100ms/step - loss: 0.6270 - accuracy: 0.7774 - val_loss: 0.6511 - val_accuracy: 0.7754\n",
            "313/313 [==============================] - 13s 42ms/step - loss: 0.6511 - accuracy: 0.7754\n",
            "Test loss 0.6511, accuracy 0.78%\n"
          ]
        }
      ],
      "source": [
        "# Обучаем модель\n",
        "hist = model.fit(X_train, y_train,\n",
        "                 epochs=20,\n",
        "                 batch_size=16,\n",
        "                 validation_data=(X_test, y_test),\n",
        "                 verbose=1)\n",
        "\n",
        "test_loss, test_metric = model.evaluate(X_test, y_test)\n",
        "print(f\"Test loss {test_loss:.4f}, accuracy {test_metric:.2f}%\")"
      ]
    },
    {
      "cell_type": "code",
      "execution_count": 8,
      "metadata": {
        "colab": {
          "base_uri": "https://localhost:8080/"
        },
        "id": "Lwb_-Dkf0iwi",
        "outputId": "de71cf5b-55a5-4d5f-bc46-51a85df9062a"
      },
      "outputs": [
        {
          "output_type": "stream",
          "name": "stdout",
          "text": [
            "313/313 [==============================] - 13s 41ms/step\n"
          ]
        }
      ],
      "source": [
        "y_pred = model.predict(X_test)"
      ]
    },
    {
      "cell_type": "code",
      "execution_count": 9,
      "metadata": {
        "colab": {
          "base_uri": "https://localhost:8080/",
          "height": 900
        },
        "id": "mJ2Xg78u0mld",
        "outputId": "3c7cc5c4-2af5-4871-8fc1-c83acae034c9"
      },
      "outputs": [
        {
          "output_type": "display_data",
          "data": {
            "text/plain": [
              "<Figure size 640x480 with 1 Axes>"
            ],
            "image/png": "[encoded data removed]"
          },
          "metadata": {}
        },
        {
          "output_type": "stream",
          "name": "stdout",
          "text": [
            "[0.27780378 0.00143844 0.06779153 0.14957073 0.27417296 0.1472187\n",
            " 0.00280974 0.00843353 0.06539339 0.00536721]\n"
          ]
        },
        {
          "output_type": "display_data",
          "data": {
            "text/plain": [
              "<Figure size 640x480 with 1 Axes>"
            ],
            "image/png": "[encoded data removed]"
          },
          "metadata": {}
        }
      ],
      "source": [
        "N = 10\n",
        "plt.plot(y_pred[N][:])\n",
        "plt.show()\n",
        "print(y_pred[N][:])\n",
        "plt.imshow(X_test[N][:,:,0])\n",
        "plt.title(classes[np.argmax(y_test[N,:])])\n",
        "plt.show()"
      ]
    },
    {
      "cell_type": "markdown",
      "metadata": {
        "id": "VJSw6G3R0plP"
      },
      "source": [
        "# 2. Оценим рост точности при увеличении ширины сети (больше фильтров т.е. количества каналов на свёртках)"
      ]
    },
    {
      "cell_type": "code",
      "execution_count": 10,
      "metadata": {
        "colab": {
          "base_uri": "https://localhost:8080/"
        },
        "id": "7cJp9aKz0zkE",
        "outputId": "1eea2a9f-0bb3-4399-dd01-b85d2e05da59"
      },
      "outputs": [
        {
          "output_type": "stream",
          "name": "stdout",
          "text": [
            "Model: \"sequential_1\"\n",
            "_________________________________________________________________\n",
            " Layer (type)                Output Shape              Param #   \n",
            "=================================================================\n",
            " conv2d_4 (Conv2D)           (None, 32, 32, 32)        896       \n",
            "                                                                 \n",
            " activation_6 (Activation)   (None, 32, 32, 32)        0         \n",
            "                                                                 \n",
            " conv2d_5 (Conv2D)           (None, 30, 30, 64)        18496     \n",
            "                                                                 \n",
            " activation_7 (Activation)   (None, 30, 30, 64)        0         \n",
            "                                                                 \n",
            " max_pooling2d_2 (MaxPooling  (None, 15, 15, 64)       0         \n",
            " 2D)                                                             \n",
            "                                                                 \n",
            " dropout_3 (Dropout)         (None, 15, 15, 64)        0         \n",
            "                                                                 \n",
            " conv2d_6 (Conv2D)           (None, 15, 15, 128)       73856     \n",
            "                                                                 \n",
            " activation_8 (Activation)   (None, 15, 15, 128)       0         \n",
            "                                                                 \n",
            " conv2d_7 (Conv2D)           (None, 13, 13, 256)       295168    \n",
            "                                                                 \n",
            " activation_9 (Activation)   (None, 13, 13, 256)       0         \n",
            "                                                                 \n",
            " max_pooling2d_3 (MaxPooling  (None, 6, 6, 256)        0         \n",
            " 2D)                                                             \n",
            "                                                                 \n",
            " dropout_4 (Dropout)         (None, 6, 6, 256)         0         \n",
            "                                                                 \n",
            " flatten_1 (Flatten)         (None, 9216)              0         \n",
            "                                                                 \n",
            " dense_2 (Dense)             (None, 512)               4719104   \n",
            "                                                                 \n",
            " activation_10 (Activation)  (None, 512)               0         \n",
            "                                                                 \n",
            " dropout_5 (Dropout)         (None, 512)               0         \n",
            "                                                                 \n",
            " dense_3 (Dense)             (None, 10)                5130      \n",
            "                                                                 \n",
            " activation_11 (Activation)  (None, 10)                0         \n",
            "                                                                 \n",
            "=================================================================\n",
            "Total params: 5,112,650\n",
            "Trainable params: 5,112,650\n",
            "Non-trainable params: 0\n",
            "_________________________________________________________________\n"
          ]
        }
      ],
      "source": [
        "# конфигурирование слоев нейросети\n",
        "model_2 = Sequential()\n",
        "\n",
        "# слои нейросети отвественные за свертку и max-pooling\n",
        "model_2.add(Conv2D(32, (3, 3), padding='same', input_shape=X_train.shape[1:]))\n",
        "model_2.add(Activation('relu')) # активацию можно прописывать как в самом слое, так и отдельно\n",
        "model_2.add(Conv2D(64, (3, 3)))\n",
        "model_2.add(Activation('relu'))\n",
        "model_2.add(MaxPooling2D(pool_size=(2, 2)))\n",
        "model_2.add(Dropout(0.25))\n",
        "\n",
        "model_2.add(Conv2D(128, (3, 3), padding='same'))\n",
        "model_2.add(Activation('relu'))\n",
        "model_2.add(Conv2D(256, (3, 3)))\n",
        "model_2.add(Activation('relu'))\n",
        "model_2.add(MaxPooling2D(pool_size=(2, 2)))\n",
        "model_2.add(Dropout(0.25))\n",
        "\n",
        "# полносвязные слои нейронной сети\n",
        "# сглаживание CNN выхода чтобы можно было его присоединить к полносвязногому слою\n",
        "model_2.add(Flatten()) \n",
        "# полносвязный слой\n",
        "model_2.add(Dense(512))\n",
        "model_2.add(Activation('relu'))\n",
        "model_2.add(Dropout(0.5))\n",
        "model_2.add(Dense(num_classes))\n",
        "# выходной слой с функцией активации softmax\n",
        "model_2.add(Activation('softmax'))\n",
        "\n",
        "model_2.summary()\n",
        "\n",
        "# компиляция модели\n",
        "model_2.compile(loss='categorical_crossentropy',\n",
        "              optimizer='SGD',\n",
        "              metrics=['accuracy'])"
      ]
    },
    {
      "cell_type": "code",
      "execution_count": 11,
      "metadata": {
        "colab": {
          "base_uri": "https://localhost:8080/"
        },
        "id": "anGpVLLU02ZM",
        "outputId": "663acc27-c77a-4313-ae2c-41645f3ec734"
      },
      "outputs": [
        {
          "output_type": "stream",
          "name": "stdout",
          "text": [
            "Epoch 1/10\n",
            "3125/3125 [==============================] - 850s 272ms/step - loss: 1.9495 - accuracy: 0.2875 - val_loss: 1.6141 - val_accuracy: 0.4213\n",
            "Epoch 2/10\n",
            "3125/3125 [==============================] - 847s 271ms/step - loss: 1.5344 - accuracy: 0.4410 - val_loss: 1.3292 - val_accuracy: 0.5158\n",
            "Epoch 3/10\n",
            "3125/3125 [==============================] - 844s 270ms/step - loss: 1.3324 - accuracy: 0.5193 - val_loss: 1.1886 - val_accuracy: 0.5760\n",
            "Epoch 4/10\n",
            "3125/3125 [==============================] - 849s 272ms/step - loss: 1.1974 - accuracy: 0.5712 - val_loss: 1.0646 - val_accuracy: 0.6273\n",
            "Epoch 5/10\n",
            "3125/3125 [==============================] - 845s 270ms/step - loss: 1.0745 - accuracy: 0.6182 - val_loss: 0.9493 - val_accuracy: 0.6691\n",
            "Epoch 6/10\n",
            "3125/3125 [==============================] - 845s 270ms/step - loss: 0.9799 - accuracy: 0.6544 - val_loss: 0.8932 - val_accuracy: 0.6822\n",
            "Epoch 7/10\n",
            "3125/3125 [==============================] - 844s 270ms/step - loss: 0.8979 - accuracy: 0.6835 - val_loss: 0.8407 - val_accuracy: 0.7080\n",
            "Epoch 8/10\n",
            "3125/3125 [==============================] - 843s 270ms/step - loss: 0.8269 - accuracy: 0.7113 - val_loss: 0.7887 - val_accuracy: 0.7241\n",
            "Epoch 9/10\n",
            "3125/3125 [==============================] - 843s 270ms/step - loss: 0.7627 - accuracy: 0.7308 - val_loss: 0.7525 - val_accuracy: 0.7403\n",
            "Epoch 10/10\n",
            "3125/3125 [==============================] - 844s 270ms/step - loss: 0.7055 - accuracy: 0.7505 - val_loss: 0.7053 - val_accuracy: 0.7560\n",
            "313/313 [==============================] - 40s 126ms/step - loss: 0.7053 - accuracy: 0.7560\n",
            "Test loss 0.7053, accuracy 0.76%\n"
          ]
        }
      ],
      "source": [
        "# Обучаем модель\n",
        "hist = model_2.fit(X_train, y_train,\n",
        "                 epochs=10,\n",
        "                 batch_size=16,\n",
        "                 validation_data=(X_test, y_test),\n",
        "                 verbose=1)\n",
        "\n",
        "test_loss, test_metric = model_2.evaluate(X_test, y_test)\n",
        "print(f\"Test loss {test_loss:.4f}, accuracy {test_metric:.2f}%\")"
      ]
    },
    {
      "cell_type": "markdown",
      "metadata": {
        "id": "qpvh21Fr07Ph"
      },
      "source": [
        "**Вывод**: С увеличением ширины сети качество упало - с 0.7754 до 0.7560"
      ]
    },
    {
      "cell_type": "markdown",
      "metadata": {
        "id": "2E1WsW5V0-AN"
      },
      "source": [
        "# 3. Оценим рост точности при увеличении глубины сети (больше слоев конволюций-пулингов)"
      ]
    },
    {
      "cell_type": "code",
      "execution_count": 12,
      "metadata": {
        "id": "OGNV-tGb1CNf",
        "colab": {
          "base_uri": "https://localhost:8080/"
        },
        "outputId": "096dfdce-7223-4621-bf52-a081c89b3871"
      },
      "outputs": [
        {
          "output_type": "stream",
          "name": "stdout",
          "text": [
            "Model: \"sequential_2\"\n",
            "_________________________________________________________________\n",
            " Layer (type)                Output Shape              Param #   \n",
            "=================================================================\n",
            " conv2d_8 (Conv2D)           (None, 32, 32, 32)        896       \n",
            "                                                                 \n",
            " activation_12 (Activation)  (None, 32, 32, 32)        0         \n",
            "                                                                 \n",
            " conv2d_9 (Conv2D)           (None, 30, 30, 32)        9248      \n",
            "                                                                 \n",
            " activation_13 (Activation)  (None, 30, 30, 32)        0         \n",
            "                                                                 \n",
            " max_pooling2d_4 (MaxPooling  (None, 15, 15, 32)       0         \n",
            " 2D)                                                             \n",
            "                                                                 \n",
            " dropout_6 (Dropout)         (None, 15, 15, 32)        0         \n",
            "                                                                 \n",
            " conv2d_10 (Conv2D)          (None, 15, 15, 64)        18496     \n",
            "                                                                 \n",
            " activation_14 (Activation)  (None, 15, 15, 64)        0         \n",
            "                                                                 \n",
            " conv2d_11 (Conv2D)          (None, 13, 13, 64)        36928     \n",
            "                                                                 \n",
            " activation_15 (Activation)  (None, 13, 13, 64)        0         \n",
            "                                                                 \n",
            " max_pooling2d_5 (MaxPooling  (None, 6, 6, 64)         0         \n",
            " 2D)                                                             \n",
            "                                                                 \n",
            " dropout_7 (Dropout)         (None, 6, 6, 64)          0         \n",
            "                                                                 \n",
            " conv2d_12 (Conv2D)          (None, 6, 6, 64)          36928     \n",
            "                                                                 \n",
            " activation_16 (Activation)  (None, 6, 6, 64)          0         \n",
            "                                                                 \n",
            " conv2d_13 (Conv2D)          (None, 4, 4, 64)          36928     \n",
            "                                                                 \n",
            " activation_17 (Activation)  (None, 4, 4, 64)          0         \n",
            "                                                                 \n",
            " max_pooling2d_6 (MaxPooling  (None, 2, 2, 64)         0         \n",
            " 2D)                                                             \n",
            "                                                                 \n",
            " dropout_8 (Dropout)         (None, 2, 2, 64)          0         \n",
            "                                                                 \n",
            " flatten_2 (Flatten)         (None, 256)               0         \n",
            "                                                                 \n",
            " dense_4 (Dense)             (None, 512)               131584    \n",
            "                                                                 \n",
            " activation_18 (Activation)  (None, 512)               0         \n",
            "                                                                 \n",
            " dropout_9 (Dropout)         (None, 512)               0         \n",
            "                                                                 \n",
            " dense_5 (Dense)             (None, 10)                5130      \n",
            "                                                                 \n",
            " activation_19 (Activation)  (None, 10)                0         \n",
            "                                                                 \n",
            "=================================================================\n",
            "Total params: 276,138\n",
            "Trainable params: 276,138\n",
            "Non-trainable params: 0\n",
            "_________________________________________________________________\n"
          ]
        }
      ],
      "source": [
        "# конфигурирование слоев нейросети\n",
        "model_3 = Sequential()\n",
        "\n",
        "# слои нейросети отвественные за свертку и max-pooling\n",
        "model_3.add(Conv2D(32, (3, 3), padding='same', input_shape=X_train.shape[1:]))\n",
        "model_3.add(Activation('relu')) # активацию можно прописывать как в самом слое, так и отдельно\n",
        "model_3.add(Conv2D(32, (3, 3)))\n",
        "model_3.add(Activation('relu'))\n",
        "model_3.add(MaxPooling2D(pool_size=(2, 2)))\n",
        "model_3.add(Dropout(0.25))\n",
        "\n",
        "model_3.add(Conv2D(64, (3, 3), padding='same'))\n",
        "model_3.add(Activation('relu'))\n",
        "model_3.add(Conv2D(64, (3, 3)))\n",
        "model_3.add(Activation('relu'))\n",
        "model_3.add(MaxPooling2D(pool_size=(2, 2)))\n",
        "model_3.add(Dropout(0.25))\n",
        "# больше слоёв конволюций-пуллингов\n",
        "model_3.add(Conv2D(64, (3, 3), padding='same'))\n",
        "model_3.add(Activation('relu'))\n",
        "model_3.add(Conv2D(64, (3, 3)))\n",
        "model_3.add(Activation('relu'))\n",
        "model_3.add(MaxPooling2D(pool_size=(2, 2)))\n",
        "model_3.add(Dropout(0.25))\n",
        "\n",
        "# полносвязные слои нейронной сети\n",
        "# сглаживание CNN выхода чтобы можно было его присоединить к полносвязногому слою\n",
        "model_3.add(Flatten()) \n",
        "# полносвязный слой\n",
        "model_3.add(Dense(512))\n",
        "model_3.add(Activation('relu'))\n",
        "model_3.add(Dropout(0.5))\n",
        "model_3.add(Dense(num_classes))\n",
        "# выходной слой с функцией активации softmax\n",
        "model_3.add(Activation('softmax'))\n",
        "\n",
        "model_3.summary()\n",
        "\n",
        "# компиляция модели\n",
        "model_3.compile(loss='categorical_crossentropy',\n",
        "              optimizer='SGD',\n",
        "              metrics=['accuracy'])"
      ]
    },
    {
      "cell_type": "code",
      "execution_count": 13,
      "metadata": {
        "id": "C_FaP1NP1Fut",
        "colab": {
          "base_uri": "https://localhost:8080/"
        },
        "outputId": "aba0ecca-b01c-4f91-80f4-1f02020a3759"
      },
      "outputs": [
        {
          "output_type": "stream",
          "name": "stdout",
          "text": [
            "Epoch 1/10\n",
            "3125/3125 [==============================] - 310s 99ms/step - loss: 2.1753 - accuracy: 0.1778 - val_loss: 1.9330 - val_accuracy: 0.2882\n",
            "Epoch 2/10\n",
            "3125/3125 [==============================] - 315s 101ms/step - loss: 1.8286 - accuracy: 0.3191 - val_loss: 1.6117 - val_accuracy: 0.4020\n",
            "Epoch 3/10\n",
            "3125/3125 [==============================] - 307s 98ms/step - loss: 1.5733 - accuracy: 0.4190 - val_loss: 1.4107 - val_accuracy: 0.4892\n",
            "Epoch 4/10\n",
            "3125/3125 [==============================] - 307s 98ms/step - loss: 1.4210 - accuracy: 0.4792 - val_loss: 1.2806 - val_accuracy: 0.5324\n",
            "Epoch 5/10\n",
            "3125/3125 [==============================] - 315s 101ms/step - loss: 1.3104 - accuracy: 0.5249 - val_loss: 1.1643 - val_accuracy: 0.5824\n",
            "Epoch 6/10\n",
            "3125/3125 [==============================] - 314s 101ms/step - loss: 1.2308 - accuracy: 0.5588 - val_loss: 1.0963 - val_accuracy: 0.6049\n",
            "Epoch 7/10\n",
            "3125/3125 [==============================] - 306s 98ms/step - loss: 1.1606 - accuracy: 0.5869 - val_loss: 1.0329 - val_accuracy: 0.6315\n",
            "Epoch 8/10\n",
            "3125/3125 [==============================] - 316s 101ms/step - loss: 1.0932 - accuracy: 0.6114 - val_loss: 0.9890 - val_accuracy: 0.6574\n",
            "Epoch 9/10\n",
            "3125/3125 [==============================] - 309s 99ms/step - loss: 1.0378 - accuracy: 0.6318 - val_loss: 0.9489 - val_accuracy: 0.6588\n",
            "Epoch 10/10\n",
            "3125/3125 [==============================] - 307s 98ms/step - loss: 0.9855 - accuracy: 0.6531 - val_loss: 0.8796 - val_accuracy: 0.6916\n",
            "313/313 [==============================] - 14s 43ms/step - loss: 0.8796 - accuracy: 0.6916\n",
            "Test loss 0.8796, accuracy 0.69%\n"
          ]
        }
      ],
      "source": [
        "# Обучаем модель\n",
        "hist = model_3.fit(X_train, y_train,\n",
        "                 epochs=10,\n",
        "                 batch_size=16,\n",
        "                 validation_data=(X_test, y_test),\n",
        "                 verbose=1)\n",
        "\n",
        "test_loss, test_metric = model_3.evaluate(X_test, y_test)\n",
        "print(f\"Test loss {test_loss:.4f}, accuracy {test_metric:.2f}%\")"
      ]
    },
    {
      "cell_type": "markdown",
      "metadata": {
        "id": "t9kyns_91JWm"
      },
      "source": [
        "**Вывод**: При увеличении глубины сети (увеличении количества слоёв конволюций-пулингов) качество упало ещё сильнее - до 0.6916."
      ]
    },
    {
      "cell_type": "markdown",
      "metadata": {
        "id": "Vwie040W1O2U"
      },
      "source": [
        "# 4. *сравнение с точностью полносвязной сети для этой выборки"
      ]
    },
    {
      "cell_type": "code",
      "execution_count": 14,
      "metadata": {
        "id": "BOrd52Wj1UKi",
        "colab": {
          "base_uri": "https://localhost:8080/"
        },
        "outputId": "261ff76b-cb5b-4665-ab82-c08a13ea5fda"
      },
      "outputs": [
        {
          "output_type": "stream",
          "name": "stdout",
          "text": [
            "Model: \"sequential_3\"\n",
            "_________________________________________________________________\n",
            " Layer (type)                Output Shape              Param #   \n",
            "=================================================================\n",
            " flatten_3 (Flatten)         (None, 3072)              0         \n",
            "                                                                 \n",
            " dense_6 (Dense)             (None, 512)               1573376   \n",
            "                                                                 \n",
            " activation_20 (Activation)  (None, 512)               0         \n",
            "                                                                 \n",
            " dropout_10 (Dropout)        (None, 512)               0         \n",
            "                                                                 \n",
            " dense_7 (Dense)             (None, 10)                5130      \n",
            "                                                                 \n",
            " activation_21 (Activation)  (None, 10)                0         \n",
            "                                                                 \n",
            "=================================================================\n",
            "Total params: 1,578,506\n",
            "Trainable params: 1,578,506\n",
            "Non-trainable params: 0\n",
            "_________________________________________________________________\n"
          ]
        }
      ],
      "source": [
        "# конфигурирование слоев нейросети\n",
        "model_4 = Sequential()\n",
        "\n",
        "# полносвязные слои нейронной сети\n",
        "# сглаживание CNN выхода чтобы можно было его присоединить к полносвязногому слою\n",
        "model_4.add(Flatten(input_shape=X_train.shape[1:]))\n",
        "# полносвязный слой\n",
        "model_4.add(Dense(512))\n",
        "model_4.add(Activation('relu'))\n",
        "model_4.add(Dropout(0.5))\n",
        "model_4.add(Dense(num_classes))\n",
        "# выходной слой с функцией активации softmax\n",
        "model_4.add(Activation('softmax'))\n",
        "\n",
        "model_4.summary()\n",
        "\n",
        "# компиляция модели\n",
        "model_4.compile(loss='categorical_crossentropy',\n",
        "              optimizer='SGD',\n",
        "              metrics=['accuracy'])"
      ]
    },
    {
      "cell_type": "code",
      "execution_count": 15,
      "metadata": {
        "id": "ZSGOStz51YQq",
        "colab": {
          "base_uri": "https://localhost:8080/"
        },
        "outputId": "bb11bd69-6895-4fcd-ecb1-f8f28a822ed1"
      },
      "outputs": [
        {
          "output_type": "stream",
          "name": "stdout",
          "text": [
            "Epoch 1/10\n",
            "3125/3125 [==============================] - 31s 10ms/step - loss: 1.9375 - accuracy: 0.3004 - val_loss: 1.7495 - val_accuracy: 0.3782\n",
            "Epoch 2/10\n",
            "3125/3125 [==============================] - 31s 10ms/step - loss: 1.7894 - accuracy: 0.3586 - val_loss: 1.7178 - val_accuracy: 0.3772\n",
            "Epoch 3/10\n",
            "3125/3125 [==============================] - 30s 10ms/step - loss: 1.7327 - accuracy: 0.3838 - val_loss: 1.6336 - val_accuracy: 0.4205\n",
            "Epoch 4/10\n",
            "3125/3125 [==============================] - 29s 9ms/step - loss: 1.6939 - accuracy: 0.3984 - val_loss: 1.5998 - val_accuracy: 0.4376\n",
            "Epoch 5/10\n",
            "3125/3125 [==============================] - 31s 10ms/step - loss: 1.6655 - accuracy: 0.4077 - val_loss: 1.5712 - val_accuracy: 0.4578\n",
            "Epoch 6/10\n",
            "3125/3125 [==============================] - 29s 9ms/step - loss: 1.6407 - accuracy: 0.4172 - val_loss: 1.5512 - val_accuracy: 0.4584\n",
            "Epoch 7/10\n",
            "3125/3125 [==============================] - 30s 10ms/step - loss: 1.6192 - accuracy: 0.4251 - val_loss: 1.5316 - val_accuracy: 0.4610\n",
            "Epoch 8/10\n",
            "3125/3125 [==============================] - 31s 10ms/step - loss: 1.6023 - accuracy: 0.4329 - val_loss: 1.5244 - val_accuracy: 0.4589\n",
            "Epoch 9/10\n",
            "3125/3125 [==============================] - 32s 10ms/step - loss: 1.5890 - accuracy: 0.4379 - val_loss: 1.5111 - val_accuracy: 0.4601\n",
            "Epoch 10/10\n",
            "3125/3125 [==============================] - 30s 10ms/step - loss: 1.5702 - accuracy: 0.4440 - val_loss: 1.4881 - val_accuracy: 0.4782\n",
            "313/313 [==============================] - 2s 5ms/step - loss: 1.4881 - accuracy: 0.4782\n",
            "Test loss 1.4881, accuracy 0.48%\n"
          ]
        }
      ],
      "source": [
        "# Обучаем модель\n",
        "hist = model_4.fit(X_train, y_train,\n",
        "                 epochs=10,\n",
        "                 batch_size=16,\n",
        "                 validation_data=(X_test, y_test),\n",
        "                 verbose=1)\n",
        "\n",
        "test_loss, test_metric = model_4.evaluate(X_test, y_test)\n",
        "print(f\"Test loss {test_loss:.4f}, accuracy {test_metric:.2f}%\")"
      ]
    },
    {
      "cell_type": "markdown",
      "metadata": {
        "id": "4Qerf_7M1cVb"
      },
      "source": [
        "**Вывод**: Полносвзная сеть обеспечила самое низкое качество."
      ]
    }
  ],
  "metadata": {
    "colab": {
      "provenance": [],
      "authorship_tag": "ABX9TyMi2xcY+B59hC0oYz7NwPQG",
      "include_colab_link": true
    },
    "kernelspec": {
      "display_name": "Python 3",
      "name": "python3"
    },
    "language_info": {
      "name": "python"
    }
  },
  "nbformat": 4,
  "nbformat_minor": 0
}